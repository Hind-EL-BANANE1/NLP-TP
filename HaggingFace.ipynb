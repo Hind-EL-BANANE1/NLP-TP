{
  "nbformat": 4,
  "nbformat_minor": 0,
  "metadata": {
    "colab": {
      "name": "Untitled3.ipynb",
      "provenance": [],
      "collapsed_sections": []
    },
    "kernelspec": {
      "name": "python3",
      "display_name": "Python 3"
    },
    "language_info": {
      "name": "python"
    }
  },
  "cells": [
    {
      "cell_type": "markdown",
      "metadata": {
        "id": "lg5gI6cGmbgZ"
      },
      "source": [
        "# Hagging Face\n",
        "![face.png](data:image/png;base64,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)"
      ]
    },
    {
      "cell_type": "code",
      "metadata": {
        "id": "55qMgzismy0o"
      },
      "source": [
        "!pip install transformers"
      ],
      "execution_count": null,
      "outputs": []
    },
    {
      "cell_type": "markdown",
      "metadata": {
        "id": "xqKTyoEOm7oX"
      },
      "source": [
        "**Pipeline :**"
      ]
    },
    {
      "cell_type": "code",
      "metadata": {
        "id": "eG_WWBZ7nBO3"
      },
      "source": [
        "from transformers import pipeline"
      ],
      "execution_count": 2,
      "outputs": []
    },
    {
      "cell_type": "code",
      "metadata": {
        "id": "a3YSBrLynOoh"
      },
      "source": [
        "get_ipython().system('pip install flair')\n",
        "from transformers import AutoTokenizer\n",
        "from flair.data import Sentence\n",
        "from flair.models import SequenceTagger\n"
      ],
      "execution_count": null,
      "outputs": []
    },
    {
      "cell_type": "markdown",
      "metadata": {
        "id": "zMJFphCiq5Wo"
      },
      "source": [
        "#Load DATA"
      ]
    },
    {
      "cell_type": "code",
      "metadata": {
        "id": "YsoNwKrsq9_Z"
      },
      "source": [
        "\n",
        "text=\"Perhaps one of the most significant advances made by Arabic mathematics began at this time with the work of al-Khwarizmi, namely the beginnings of algebra. It is important to understand just how significant this new idea was. It was a revolutionary move away from the Greek concept of mathematics which was essentially geometry. Algebra was a unifying theory which allowed rational numbers,irrational numbers, geometrical magnitudes, etc., to all be treated as \\\"algebraic objects\\\". It gave mathematics a whole new development path so much broader in concept to that which had existed before, and provided a vehicle for future development of the subject. Another important aspect of the introduction of algebraic ideas was that it allowed mathematics to be applied to itselfin a way which had not happened before.\""
      ],
      "execution_count": 13,
      "outputs": []
    },
    {
      "cell_type": "markdown",
      "metadata": {
        "id": "34d-fFBbqrAB"
      },
      "source": [
        "#Tokenization"
      ]
    },
    {
      "cell_type": "markdown",
      "metadata": {
        "id": "XsDfD76Sq4wY"
      },
      "source": [
        ""
      ]
    },
    {
      "cell_type": "code",
      "metadata": {
        "id": "SPcU_UQAqtoI"
      },
      "source": [
        "tokens=AutoTokenizer.from_pretrained(\"bert-base-uncased\")\n",
        "token=tokens.tokenize(text)\n",
        "print(token)"
      ],
      "execution_count": null,
      "outputs": []
    },
    {
      "cell_type": "markdown",
      "metadata": {
        "id": "8eYk9LgErDHg"
      },
      "source": [
        "#pos tagging"
      ]
    },
    {
      "cell_type": "code",
      "metadata": {
        "id": "Wfc5PIE8rFCQ"
      },
      "source": [
        "tagged = SequenceTagger.load(\"flair/pos-english\")\n",
        "sentence = Sentence(text)\n",
        "tagged.predict(sentence)\n",
        "\n",
        "for word in sentence.get_spans('pos'):\n",
        "    print(word)\n",
        "    "
      ],
      "execution_count": null,
      "outputs": []
    },
    {
      "cell_type": "markdown",
      "metadata": {
        "id": "kTKPI7gnwzpZ"
      },
      "source": [
        "#Summarizer"
      ]
    },
    {
      "cell_type": "code",
      "metadata": {
        "id": "BkvWQ4-tzrHo"
      },
      "source": [
        "summarizer=pipeline(\"summarization\")"
      ],
      "execution_count": null,
      "outputs": []
    },
    {
      "cell_type": "code",
      "metadata": {
        "id": "Va1IhZL-0Bbw"
      },
      "source": [
        "summarizer(text,max_length=30,min_length=30)"
      ],
      "execution_count": null,
      "outputs": []
    },
    {
      "cell_type": "markdown",
      "metadata": {
        "id": "AevTm8kc0q5Y"
      },
      "source": [
        "#**Text** en **Arabe**"
      ]
    },
    {
      "cell_type": "code",
      "metadata": {
        "id": "nsVHtegL0w4_"
      },
      "source": [
        "text_ar=\"\"\"ربما كانت أحد أهم التطورات التي قامت بها الرياضيات العربية التي بدأت في هذا الوقت بعمل الخوارزمي و هي بدايات الجبر، و من المهم فهم كيف كانت هذه الفكرة الجديدة مهمة، فقد كانت خطوة ثورية بعيدا عن المفهوم اليوناني للرياضيات التي هي في جوهرها هندسة، الجبر كان نظرية موحدة تتيح الأعداد الكسرية و الأعداد اللا كسرية، و قدم وسيلة للتنمية في هذا الموضوع مستقبلا. و جانب آخر مهم لإدخال أفكار الجبر و هو أنه سمح بتطبيق الرياضيات على نفسها بطريقة لم تحدث من قبل\"\"\""
      ],
      "execution_count": 19,
      "outputs": []
    },
    {
      "cell_type": "markdown",
      "metadata": {
        "id": "mFakTBmm1DTg"
      },
      "source": [
        "#Tokenization\n"
      ]
    },
    {
      "cell_type": "code",
      "metadata": {
        "id": "UO5YOQDC1F4Y"
      },
      "source": [
        "from transformers import AutoTokenizer, AutoModel\n",
        "PRE_TRAINED_MODEL_NAME  = 'aubmindlab/bert-base-arabertv01'\n",
        "tokenizer = AutoTokenizer.from_pretrained(PRE_TRAINED_MODEL_NAME )\n",
        "bert_model = AutoModel.from_pretrained(PRE_TRAINED_MODEL_NAME )\n"
      ],
      "execution_count": null,
      "outputs": []
    },
    {
      "cell_type": "code",
      "metadata": {
        "colab": {
          "base_uri": "https://localhost:8080/"
        },
        "id": "UEFk8AHK2ZxS",
        "outputId": "d8568655-f165-4fd7-f9e4-4a926f6cc5f9"
      },
      "source": [
        "token=tokenizer.tokenize(text_ar)\n",
        "print(token)"
      ],
      "execution_count": 36,
      "outputs": [
        {
          "output_type": "stream",
          "text": [
            "['ربما', 'كانت', 'أحد', 'أهم', 'التطورات', 'التي', 'قامت', 'بها', 'الرياضيات', 'العربية', 'التي', 'بدأت', 'في', 'هذا', 'الوقت', 'بعمل', 'الخوارزمي', 'و', 'هي', 'بدايات', 'الجبر', '،', 'و', 'من', 'المهم', 'فهم', 'كيف', 'كانت', 'هذه', 'الفكرة', 'الجديدة', 'مهمة', '،', 'فقد', 'كانت', 'خطوة', 'ثورية', 'بعيدا', 'عن', 'المفهوم', 'اليوناني', 'للرياض', '##يات', 'التي', 'هي', 'في', 'جوهرها', 'هندسة', '،', 'الجبر', 'كان', 'نظرية', 'موحدة', 'تتيح', 'الأعداد', 'الكسر', '##ية', 'و', 'الأعداد', 'اللا', 'كسر', '##ية', '،', 'و', 'قدم', 'وسيلة', 'للتنمية', 'في', 'هذا', 'الموضوع', 'مستقبلا', '.', 'و', 'جانب', 'آخر', 'مهم', 'لإدخال', 'أفكار', 'الجبر', 'و', 'هو', 'أنه', 'سمح', 'بتطبيق', 'الرياضيات', 'على', 'نفسها', 'بطريقة', 'لم', 'تحدث', 'من', 'قبل']\n"
          ],
          "name": "stdout"
        }
      ]
    },
    {
      "cell_type": "markdown",
      "metadata": {
        "id": "Y13QD8JQ2zuQ"
      },
      "source": [
        "#pos tagging"
      ]
    },
    {
      "cell_type": "code",
      "metadata": {
        "id": "_LPRBQzg27LA"
      },
      "source": [
        "tokenizer = AutoTokenizer.from_pretrained('CAMeL-Lab/bert-base-camelbert-ca')\n",
        "model = AutoModel.from_pretrained('CAMeL-Lab/bert-base-camelbert-ca')\n",
        "text = \"مرحبا يا عالم.\"\n",
        "encoded_input = tokenizer(text, return_tensors='pt')\n",
        "output = model(**encoded_input)"
      ],
      "execution_count": null,
      "outputs": []
    }
  ]
}